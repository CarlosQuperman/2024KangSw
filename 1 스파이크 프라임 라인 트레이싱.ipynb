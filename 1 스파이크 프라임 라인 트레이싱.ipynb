{
  "nbformat": 4,
  "nbformat_minor": 0,
  "metadata": {
    "colab": {
      "provenance": []
    },
    "kernelspec": {
      "name": "python3",
      "display_name": "Python 3"
    },
    "language_info": {
      "name": "python"
    }
  },
  "cells": [
    {
      "cell_type": "markdown",
      "source": [
        "### 라인트레이싱 진행하기\n",
        "\n",
        "* 색깔 인식에 따른 운동\n"
      ],
      "metadata": {
        "id": "BlUOXrgJfehx"
      }
    },
    {
      "cell_type": "code",
      "execution_count": null,
      "metadata": {
        "id": "Tomdnsr9eBQm"
      },
      "outputs": [],
      "source": [
        "from spike import PrimeHub, LightMatrix, Button, StatusLight, ForceSensor, MotionSensor, Speaker, ColorSensor, App, DistanceSensor, Motor, MotorPair\n",
        "from spike.control import wait_for_seconds, wait_until, Timer\n",
        "from math import *\n",
        "#허브 초기화\n",
        "hub = PrimeHub()\n",
        "#모터 짝만들기\n",
        "motor_pair = MotorPair('', '')\n",
        "#컬러 센서 설정\n",
        "color=ColorSensor('')\n",
        "\n",
        "hub.speaker.beep()\n",
        "print(\"Starting line tracking\")\n",
        "\n",
        "\n",
        "#버튼이 눌러지지 않았다면\n",
        "while not hub.left_button.is_pressed():\n",
        "    if color.get_reflected_light()<50:\n",
        "        motor_pair.start_tank(20,-5)\n",
        "    else:\n",
        "        motor_pair.start_tank(-5,20)\n",
        "\n",
        "motor_pair.stop()"
      ]
    },
    {
      "cell_type": "markdown",
      "source": [
        "### 부드럽게 움직이는 라인트레이싱"
      ],
      "metadata": {
        "id": "EshmqhpSfi_2"
      }
    },
    {
      "cell_type": "code",
      "source": [
        "from spike import PrimeHub, LightMatrix, Button, StatusLight, ForceSensor, MotionSensor, Speaker, ColorSensor, App, DistanceSensor, Motor, MotorPair\n",
        "from spike.control import wait_for_seconds, wait_until, Timer\n",
        "from math import *\n",
        "hub = PrimeHub()\n",
        "motor_pair = MotorPair('C', 'D')\n",
        "color=ColorSensor('E')\n",
        "\n",
        "def moveTank():\n",
        "    while not hub.left_button.is_pressed():\n",
        "        if color.get_reflected_light()<50:\n",
        "            motor_pair.start_tank(20,-5)\n",
        "        else:\n",
        "            motor_pair.start_tank(-5,20)\n",
        "\n",
        "    motor_pair.stop()\n",
        "\n",
        "def moveSmoothTank():\n",
        "    l=0\n",
        "    r=0\n",
        "    a=0\n",
        "    while not hub.left_button.is_pressed():\n",
        "        print(color.get_reflected_light())\n",
        "        a=int((color.get_reflected_light()-50)/5)\n",
        "        l=10-a\n",
        "        r=10+a\n",
        "        motor_pair.start_tank(l,r)\n",
        "        print(str(color.get_reflected_light()) + \" : \" +str(l) + \" : \" + str(r))\n",
        "\n",
        "    motor_pair.stop()\n",
        "\n",
        "hub.speaker.beep()\n",
        "print(\"Starting line tracking\")\n",
        "moveSmoothTank()\n"
      ],
      "metadata": {
        "id": "SxV9JoW9flD5"
      },
      "execution_count": null,
      "outputs": []
    },
    {
      "cell_type": "code",
      "source": [
        "## 컬러 센서와 두 개의 바퀴 움직임을 활용한 나만의 코드 만들기\n",
        "\n",
        "# 1. 먼저 의도하고 있는 동작을 #을 통한 주석으로 설명해보고\n",
        "# 2. 알고리즘을 설계한 후\n",
        "# 3. 알고리즘을 바탕으로 코드로 구현해보자\n",
        "\n",
        "from spike import PrimeHub, LightMatrix, Button, StatusLight, ForceSensor, MotionSensor, Speaker, ColorSensor, App, DistanceSensor, Motor, MotorPair\n",
        "from spike.control import wait_for_seconds, wait_until, Timer\n",
        "from math import *\n",
        "\n",
        "hub = PrimeHub()\n",
        "motor_pair = MotorPair('C', 'D')\n",
        "color=ColorSensor('E')\n",
        "motor1 = Motor('C')\n",
        "motor2 =Motor('D')\n",
        "\n",
        "def move_jwj():\n",
        "  while not hub.left_button.is_pressed():\n",
        "    #print(color.get_color())\n",
        "    #motor_pair.move(10, unit='cm', steering=0, speed=20)\n",
        "\n",
        "move_jwj()\n",
        "\n",
        "if color.get_color()=='red':\n",
        "  red_move()\n",
        "elif color.get_color() == 'blue':\n",
        "  blue_move()\n"
      ],
      "metadata": {
        "id": "RDEBSbkVf--p"
      },
      "execution_count": null,
      "outputs": []
    }
  ]
}